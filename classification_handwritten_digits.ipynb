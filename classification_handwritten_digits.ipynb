{
 "cells": [
  {
   "cell_type": "code",
   "execution_count": 5,
   "metadata": {},
   "outputs": [
    {
     "name": "stdout",
     "output_type": "stream",
     "text": [
      "\n",
      "FITTING MODEL TO TRAINING DATASET:\n",
      "Epoch 1/10\n",
      "1875/1875 [==============================] - 2s 1ms/step - loss: 0.2583 - accuracy: 0.9258: 0s - loss: 0.2\n",
      "Epoch 2/10\n",
      "1875/1875 [==============================] - 2s 970us/step - loss: 0.1160 - accuracy: 0.9657\n",
      "Epoch 3/10\n",
      "1875/1875 [==============================] - 2s 985us/step - loss: 0.0805 - accuracy: 0.9754\n",
      "Epoch 4/10\n",
      "1875/1875 [==============================] - 2s 1ms/step - loss: 0.0588 - accuracy: 0.9816: 1s - loss: 0 - ETA\n",
      "Epoch 5/10\n",
      "1875/1875 [==============================] - 2s 994us/step - loss: 0.0464 - accuracy: 0.9860\n",
      "Epoch 6/10\n",
      "1875/1875 [==============================] - 2s 992us/step - loss: 0.0368 - accuracy: 0.9886\n",
      "Epoch 7/10\n",
      "1875/1875 [==============================] - 2s 1ms/step - loss: 0.0286 - accuracy: 0.9912\n",
      "\n",
      "Reached 99% accuracy so stopping training!\n",
      "\n",
      "EVALUATION :\n",
      "313/313 [==============================] - 0s 794us/step - loss: 0.0747 - accuracy: 0.9781\n"
     ]
    }
   ],
   "source": [
    "import tensorflow as tf\n",
    "mnist = tf.keras.datasets.mnist\n",
    "\n",
    "class myCallback(tf.keras.callbacks.Callback):\n",
    "    def on_epoch_end(self, epoch, logs={}):\n",
    "        if(logs.get('accuracy')>0.99):\n",
    "            print(\"\\nReached 99% accuracy so stopping training!\")\n",
    "            self.model.stop_training = True\n",
    "\n",
    "# load datasets\n",
    "(training_images,\n",
    " training_labels), (test_images,\n",
    "                    test_labels) = mnist.load_data()\n",
    "\n",
    "# normalize dataset\n",
    "training_images, test_images = training_images / 255.0, test_images / 255.0\n",
    "\n",
    "callbacks = myCallback()\n",
    "\n",
    "# create model\n",
    "model = tf.keras.models.Sequential([\n",
    "          tf.keras.layers.Flatten(input_shape=(28, 28)),\n",
    "          tf.keras.layers.Dense(128, activation=tf.nn.relu),\n",
    "          tf.keras.layers.Dense(10, activation=tf.nn.softmax),          \n",
    "])\n",
    "\n",
    "\n",
    "# compile model\n",
    "model.compile(optimizer='adam',\n",
    "              loss='sparse_categorical_crossentropy',\n",
    "              metrics=['accuracy'])\n",
    "\n",
    "# fit model on training dataset\n",
    "print(f'\\nFITTING MODEL TO TRAINING DATASET:')\n",
    "model.fit(training_images,\n",
    "          training_labels,\n",
    "          epochs=10,\n",
    "          callbacks=[callbacks])\n",
    "\n",
    "# evaluate fitted model on test dataset\n",
    "print(f'\\nEVALUATION :')\n",
    "test_loss = model.evaluate(test_images,\n",
    "                           test_labels)"
   ]
  },
  {
   "cell_type": "code",
   "execution_count": 5,
   "metadata": {},
   "outputs": [
    {
     "name": "stdout",
     "output_type": "stream",
     "text": [
      "Epoch 1/10\n",
      "1875/1875 [==============================] - 6s 3ms/step - loss: 0.1992 - accuracy: 0.9426\n",
      "Epoch 2/10\n",
      "1875/1875 [==============================] - 6s 3ms/step - loss: 0.0800 - accuracy: 0.9756\n",
      "Epoch 3/10\n",
      "1875/1875 [==============================] - 6s 3ms/step - loss: 0.0512 - accuracy: 0.9840\n",
      "Epoch 4/10\n",
      "1875/1875 [==============================] - 6s 3ms/step - loss: 0.0368 - accuracy: 0.9880\n",
      "Epoch 5/10\n",
      "1875/1875 [==============================] - 6s 3ms/step - loss: 0.0278 - accuracy: 0.9911\n",
      "\n",
      "Reached 99% accuracy so cancelling training!\n"
     ]
    },
    {
     "data": {
      "text/plain": [
       "<tensorflow.python.keras.callbacks.History at 0x2bf389a9940>"
      ]
     },
     "execution_count": 5,
     "metadata": {},
     "output_type": "execute_result"
    }
   ],
   "source": [
    "# create model\n",
    "model = tf.keras.models.Sequential([\n",
    "          tf.keras.layers.Flatten(input_shape=(28, 28)),\n",
    "          tf.keras.layers.Dense(512, activation=tf.nn.relu),\n",
    "          tf.keras.layers.Dense(10, activation=tf.nn.softmax),          \n",
    "])\n",
    "\n",
    "\n",
    "# compile model\n",
    "model.compile(optimizer='adam',\n",
    "              loss='sparse_categorical_crossentropy',\n",
    "              metrics=['accuracy'])\n",
    "\n",
    "# fit model\n",
    "model.fit(x_train, y_train, epochs=10, callbacks=[callbacks])"
   ]
  }
 ],
 "metadata": {
  "kernelspec": {
   "display_name": "mach_learn_env",
   "language": "python",
   "name": "mach_learn_env"
  },
  "language_info": {
   "codemirror_mode": {
    "name": "ipython",
    "version": 3
   },
   "file_extension": ".py",
   "mimetype": "text/x-python",
   "name": "python",
   "nbconvert_exporter": "python",
   "pygments_lexer": "ipython3",
   "version": "3.8.6"
  },
  "widgets": {
   "application/vnd.jupyter.widget-state+json": {
    "state": {},
    "version_major": 2,
    "version_minor": 0
   }
  }
 },
 "nbformat": 4,
 "nbformat_minor": 4
}
