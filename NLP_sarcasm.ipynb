{
 "cells": [
  {
   "cell_type": "code",
   "execution_count": 20,
   "metadata": {},
   "outputs": [
    {
     "data": {
      "text/plain": [
       "5643545"
      ]
     },
     "execution_count": 20,
     "metadata": {},
     "output_type": "execute_result"
    }
   ],
   "source": [
    "# !wget --no-check-certificate \\\n",
    "#     https://storage.googleapis.com/laurencemoroney-blog.appspot.com/sarcasm.json \\\n",
    "#     -O /tmp/sarcasm.json\n",
    " \n",
    "#import wget    \n",
    "#!wget http://www.gatsby.ucl.ac.uk/teaching/courses/ml1/binarydigits.txt\n",
    "\n",
    "# import urllib.request\n",
    "# url = 'https://storage.googleapis.com/laurencemoroney-blog.appspot.com/'\n",
    "# filename = '/data/sarcasm.json'\n",
    "# urllib.request.urlretrieve(url, filename)\n",
    "    \n",
    "    # import json\n",
    "\n",
    "# with open(\"/tmp/sarcasm.json\", 'r') as f:\n",
    "#     datastore = json.load(f)\n",
    "\n",
    "\n",
    "# sentences = [] \n",
    "# labels = []\n",
    "# urls = []\n",
    "# for item in datastore:\n",
    "#     sentences.append(item['headline'])\n",
    "#     labels.append(item['is_sarcastic'])\n",
    "#     urls.append(item['article_link'])\n",
    "\n",
    "\n",
    "\n",
    "# from tensorflow.keras.preprocessing.text import Tokenizer\n",
    "# from tensorflow.keras.preprocessing.sequence import pad_sequences\n",
    "# tokenizer = Tokenizer(oov_token=\"<OOV>\")\n",
    "# tokenizer.fit_on_texts(sentences)\n",
    "\n",
    "# word_index = tokenizer.word_index\n",
    "# print(len(word_index))\n",
    "# print(word_index)\n",
    "# sequences = tokenizer.texts_to_sequences(sentences)\n",
    "# padded = pad_sequences(sequences, padding='post')\n",
    "# print(padded[0])\n",
    "# print(padded.shape)\n",
    "\n",
    "\n",
    "import requests\n",
    "import os\n",
    "import json\n",
    "\n",
    "url = 'https://storage.googleapis.com/laurencemoroney-blog.appspot.com/sarcasm.json'\n",
    "parent_dir = 'c:/users/champ/Python_proj/ML_training_repo/TensorFlow_cert/data/'\n",
    "directory = 'sarcasm_dataset/'\n",
    "target_file = 'sarcasm.json'\n",
    "\n",
    "# Path\n",
    "path = os.path.join(parent_dir, directory)\n",
    "\n",
    "# get data from url\n",
    "myfile = requests.get(url)\n",
    "\n",
    "try:\n",
    "    os.mkdir(path)\n",
    "except FileExistsError:\n",
    "    pass\n",
    "\n",
    "# transfer data from var to file\n",
    "open(path + target_file, 'wb').write(myfile.content)"
   ]
  }
 ],
 "metadata": {
  "kernelspec": {
   "display_name": "mach_learn_env",
   "language": "python",
   "name": "mach_learn_env"
  },
  "language_info": {
   "codemirror_mode": {
    "name": "ipython",
    "version": 3
   },
   "file_extension": ".py",
   "mimetype": "text/x-python",
   "name": "python",
   "nbconvert_exporter": "python",
   "pygments_lexer": "ipython3",
   "version": "3.8.6"
  },
  "widgets": {
   "application/vnd.jupyter.widget-state+json": {
    "state": {},
    "version_major": 2,
    "version_minor": 0
   }
  }
 },
 "nbformat": 4,
 "nbformat_minor": 4
}
