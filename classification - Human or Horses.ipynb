{
 "cells": [
  {
   "cell_type": "markdown",
   "metadata": {},
   "source": [
    "# setup and EDA"
   ]
  },
  {
   "cell_type": "markdown",
   "metadata": {},
   "source": [
    "## import libraries"
   ]
  },
  {
   "cell_type": "code",
   "execution_count": 21,
   "metadata": {},
   "outputs": [
    {
     "name": "stdout",
     "output_type": "stream",
     "text": [
      "2.5.0\n"
     ]
    }
   ],
   "source": [
    "import tensorflow as tf\n",
    "import numpy as np\n",
    "import matplotlib.pyplot as plt\n",
    "import matplotlib.image as mpimg\n",
    "import flake8\n",
    "import pycodestyle_magic\n",
    "import pandas as pd\n",
    "import random\n",
    "import requests\n",
    "import zipfile\n",
    "import os\n",
    "from keras.preprocessing.image import ImageDataGenerator\n",
    "from tensorflow.keras.optimizers import RMSprop\n",
    "print(tf.__version__)"
   ]
  },
  {
   "cell_type": "markdown",
   "metadata": {},
   "source": [
    "## variables"
   ]
  },
  {
   "cell_type": "code",
   "execution_count": 20,
   "metadata": {},
   "outputs": [],
   "source": [
    "Img_Size = 300 #keeping the resolition of all images to 150x150 to feed the neural network\n",
    "Batch_size= 100\n",
    "class_names = ['Horses', 'Humans']\n",
    "train_dir = os.getcwd() + '\\\\data\\\\horse-or-human\\\\train'\n",
    "val_dir = os.getcwd() + '\\\\data\\\\horse-or-human\\\\validation'\n",
    "predict_images_dir = os.getcwd() + '\\\\data\\\\horse-or-human\\\\test_predict\\\\'\n",
    "predict_images = ['sample1.png', 'sample2.png']\n",
    "%matplotlib inline\n",
    "\n",
    "# Parameters for our graph; we'll output images in a 4x4 configuration\n",
    "nrows = 4\n",
    "ncols = 4\n",
    "\n",
    "# Index for iterating over images\n",
    "pic_index = 0"
   ]
  },
  {
   "cell_type": "markdown",
   "metadata": {},
   "source": [
    "## methods"
   ]
  },
  {
   "cell_type": "markdown",
   "metadata": {},
   "source": [
    "# obtain the data"
   ]
  },
  {
   "cell_type": "code",
   "execution_count": 17,
   "metadata": {},
   "outputs": [
    {
     "name": "stdout",
     "output_type": "stream",
     "text": [
      "\n",
      "Folders in the C:\\Users\\champ\\Python_proj\\ML_training_repo\\TensorFlow_cert\\data\\horse-or-human\\train directory :\n",
      "C:\\Users\\champ\\Python_proj\\ML_training_repo\\TensorFlow_cert\\data\\horse-or-human\\train\\horses\n",
      "C:\\Users\\champ\\Python_proj\\ML_training_repo\\TensorFlow_cert\\data\\horse-or-human\\train\\humans\n",
      "\n",
      "Folders in the C:\\Users\\champ\\Python_proj\\ML_training_repo\\TensorFlow_cert\\data\\horse-or-human\\validation directory :\n",
      "C:\\Users\\champ\\Python_proj\\ML_training_repo\\TensorFlow_cert\\data\\horse-or-human\\validation\\horses\n",
      "C:\\Users\\champ\\Python_proj\\ML_training_repo\\TensorFlow_cert\\data\\horse-or-human\\validation\\humans\n",
      "\n",
      "total training human images: 500\n",
      "total training horses images: 527\n",
      "total validation human images: 128\n",
      "total validation horses images: 129\n",
      "added ...\n",
      "Total training images: 1027 : 80.0%\n",
      "Total validation images: 257 : 20.0%\n",
      "\n",
      "['human01-00.png', 'human01-01.png', 'human01-02.png', 'human01-03.png', 'human01-04.png', 'human01-05.png', 'human01-06.png', 'human01-07.png', 'human01-08.png', 'human01-09.png']\n",
      "\n",
      "['horse01-0.png', 'horse01-1.png', 'horse01-2.png', 'horse01-3.png', 'horse01-4.png', 'horse01-5.png', 'horse01-6.png', 'horse01-7.png', 'horse01-8.png', 'horse01-9.png']\n"
     ]
    }
   ],
   "source": [
    "arr_ = []\n",
    "print(f'\\nFolders in the {train_dir} directory :')\n",
    "for i in  os.listdir(train_dir):\n",
    "    print(f'{os.path.join(train_dir,i)}')\n",
    "    arr_.append(i)\n",
    "Train_Dir_humans = os.path.join(train_dir,arr_[0])\n",
    "Train_Dir_horses = os.path.join(train_dir,arr_[1])\n",
    "Num_humans_train = len(os.listdir(Train_Dir_humans))\n",
    "Num_horses_train = len(os.listdir(Train_Dir_horses))\n",
    "\n",
    "val_dir = os.getcwd() + '\\\\data\\\\horse-or-human\\\\validation'\n",
    "print(f'\\nFolders in the {val_dir} directory :')\n",
    "for i in  os.listdir(val_dir):\n",
    "    print(f'{os.path.join(val_dir,i)}')\n",
    "Val_Dir_humans = os.path.join(val_dir,arr_[0])\n",
    "Val_Dir_horses = os.path.join(val_dir,arr_[1])\n",
    "Num_humans_val = len(os.listdir(Val_Dir_humans))\n",
    "Num_horses_val = len(os.listdir(Val_Dir_horses))\n",
    "\n",
    "Total_train_data=Num_humans_train + Num_horses_train\n",
    "Total_val_data=Num_humans_val+Num_horses_val\n",
    "\n",
    "print(f'\\ntotal training human images: {Num_humans_train}')\n",
    "print(f'total training horses images: {Num_horses_train}')\n",
    "print(f'total validation human images: {Num_humans_val}')\n",
    "print(f'total validation horses images: {Num_horses_val}')\n",
    "print('added ...')\n",
    "print(f'Total training images: {Total_train_data} : {round(Total_train_data/(Total_train_data+Total_val_data)*100,0)}%')\n",
    "print(f'Total validation images: {Total_val_data} : {round(Total_val_data/(Total_train_data+Total_val_data)*100,0)}%')\n",
    "\n",
    "train_horse_names = os.listdir(Train_Dir_horses)\n",
    "print(f'\\n{train_horse_names[:10]}')\n",
    "\n",
    "train_human_names = os.listdir(Train_Dir_humans)\n",
    "print(f'\\n{train_human_names[:10]}')"
   ]
  },
  {
   "cell_type": "markdown",
   "metadata": {},
   "source": [
    "## Explore the data"
   ]
  },
  {
   "cell_type": "code",
   "execution_count": 22,
   "metadata": {},
   "outputs": [
    {
     "ename": "FileNotFoundError",
     "evalue": "[Errno 2] No such file or directory: 'C:\\\\Users\\\\champ\\\\Python_proj\\\\ML_training_repo\\\\TensorFlow_cert\\\\data\\\\horse-or-human\\\\train\\\\horses\\\\human01-00.png'",
     "output_type": "error",
     "traceback": [
      "\u001b[1;31m---------------------------------------------------------------------------\u001b[0m",
      "\u001b[1;31mFileNotFoundError\u001b[0m                         Traceback (most recent call last)",
      "\u001b[1;32m<ipython-input-22-2e344d4ed8c0>\u001b[0m in \u001b[0;36m<module>\u001b[1;34m\u001b[0m\n\u001b[0;32m     14\u001b[0m   \u001b[0msp\u001b[0m\u001b[1;33m.\u001b[0m\u001b[0maxis\u001b[0m\u001b[1;33m(\u001b[0m\u001b[1;34m'Off'\u001b[0m\u001b[1;33m)\u001b[0m \u001b[1;31m# Don't show axes (or gridlines)\u001b[0m\u001b[1;33m\u001b[0m\u001b[1;33m\u001b[0m\u001b[0m\n\u001b[0;32m     15\u001b[0m \u001b[1;33m\u001b[0m\u001b[0m\n\u001b[1;32m---> 16\u001b[1;33m   \u001b[0mimg\u001b[0m \u001b[1;33m=\u001b[0m \u001b[0mmpimg\u001b[0m\u001b[1;33m.\u001b[0m\u001b[0mimread\u001b[0m\u001b[1;33m(\u001b[0m\u001b[0mimg_path\u001b[0m\u001b[1;33m)\u001b[0m\u001b[1;33m\u001b[0m\u001b[1;33m\u001b[0m\u001b[0m\n\u001b[0m\u001b[0;32m     17\u001b[0m   \u001b[0mplt\u001b[0m\u001b[1;33m.\u001b[0m\u001b[0mimshow\u001b[0m\u001b[1;33m(\u001b[0m\u001b[0mimg\u001b[0m\u001b[1;33m)\u001b[0m\u001b[1;33m\u001b[0m\u001b[1;33m\u001b[0m\u001b[0m\n\u001b[0;32m     18\u001b[0m \u001b[1;33m\u001b[0m\u001b[0m\n",
      "\u001b[1;32m~\\Python_proj\\venv\\mach_learn_env\\lib\\site-packages\\matplotlib\\image.py\u001b[0m in \u001b[0;36mimread\u001b[1;34m(fname, format)\u001b[0m\n\u001b[0;32m   1494\u001b[0m                     \u001b[0mresponse\u001b[0m \u001b[1;33m=\u001b[0m \u001b[0mio\u001b[0m\u001b[1;33m.\u001b[0m\u001b[0mBytesIO\u001b[0m\u001b[1;33m(\u001b[0m\u001b[0mresponse\u001b[0m\u001b[1;33m.\u001b[0m\u001b[0mread\u001b[0m\u001b[1;33m(\u001b[0m\u001b[1;33m)\u001b[0m\u001b[1;33m)\u001b[0m\u001b[1;33m\u001b[0m\u001b[1;33m\u001b[0m\u001b[0m\n\u001b[0;32m   1495\u001b[0m                 \u001b[1;32mreturn\u001b[0m \u001b[0mimread\u001b[0m\u001b[1;33m(\u001b[0m\u001b[0mresponse\u001b[0m\u001b[1;33m,\u001b[0m \u001b[0mformat\u001b[0m\u001b[1;33m=\u001b[0m\u001b[0mext\u001b[0m\u001b[1;33m)\u001b[0m\u001b[1;33m\u001b[0m\u001b[1;33m\u001b[0m\u001b[0m\n\u001b[1;32m-> 1496\u001b[1;33m     \u001b[1;32mwith\u001b[0m \u001b[0mimg_open\u001b[0m\u001b[1;33m(\u001b[0m\u001b[0mfname\u001b[0m\u001b[1;33m)\u001b[0m \u001b[1;32mas\u001b[0m \u001b[0mimage\u001b[0m\u001b[1;33m:\u001b[0m\u001b[1;33m\u001b[0m\u001b[1;33m\u001b[0m\u001b[0m\n\u001b[0m\u001b[0;32m   1497\u001b[0m         return (_pil_png_to_float_array(image)\n\u001b[0;32m   1498\u001b[0m                 \u001b[1;32mif\u001b[0m \u001b[0misinstance\u001b[0m\u001b[1;33m(\u001b[0m\u001b[0mimage\u001b[0m\u001b[1;33m,\u001b[0m \u001b[0mPIL\u001b[0m\u001b[1;33m.\u001b[0m\u001b[0mPngImagePlugin\u001b[0m\u001b[1;33m.\u001b[0m\u001b[0mPngImageFile\u001b[0m\u001b[1;33m)\u001b[0m \u001b[1;32melse\u001b[0m\u001b[1;33m\u001b[0m\u001b[1;33m\u001b[0m\u001b[0m\n",
      "\u001b[1;32m~\\Python_proj\\venv\\mach_learn_env\\lib\\site-packages\\PIL\\ImageFile.py\u001b[0m in \u001b[0;36m__init__\u001b[1;34m(self, fp, filename)\u001b[0m\n\u001b[0;32m    107\u001b[0m         \u001b[1;32mif\u001b[0m \u001b[0misPath\u001b[0m\u001b[1;33m(\u001b[0m\u001b[0mfp\u001b[0m\u001b[1;33m)\u001b[0m\u001b[1;33m:\u001b[0m\u001b[1;33m\u001b[0m\u001b[1;33m\u001b[0m\u001b[0m\n\u001b[0;32m    108\u001b[0m             \u001b[1;31m# filename\u001b[0m\u001b[1;33m\u001b[0m\u001b[1;33m\u001b[0m\u001b[1;33m\u001b[0m\u001b[0m\n\u001b[1;32m--> 109\u001b[1;33m             \u001b[0mself\u001b[0m\u001b[1;33m.\u001b[0m\u001b[0mfp\u001b[0m \u001b[1;33m=\u001b[0m \u001b[0mopen\u001b[0m\u001b[1;33m(\u001b[0m\u001b[0mfp\u001b[0m\u001b[1;33m,\u001b[0m \u001b[1;34m\"rb\"\u001b[0m\u001b[1;33m)\u001b[0m\u001b[1;33m\u001b[0m\u001b[1;33m\u001b[0m\u001b[0m\n\u001b[0m\u001b[0;32m    110\u001b[0m             \u001b[0mself\u001b[0m\u001b[1;33m.\u001b[0m\u001b[0mfilename\u001b[0m \u001b[1;33m=\u001b[0m \u001b[0mfp\u001b[0m\u001b[1;33m\u001b[0m\u001b[1;33m\u001b[0m\u001b[0m\n\u001b[0;32m    111\u001b[0m             \u001b[0mself\u001b[0m\u001b[1;33m.\u001b[0m\u001b[0m_exclusive_fp\u001b[0m \u001b[1;33m=\u001b[0m \u001b[1;32mTrue\u001b[0m\u001b[1;33m\u001b[0m\u001b[1;33m\u001b[0m\u001b[0m\n",
      "\u001b[1;31mFileNotFoundError\u001b[0m: [Errno 2] No such file or directory: 'C:\\\\Users\\\\champ\\\\Python_proj\\\\ML_training_repo\\\\TensorFlow_cert\\\\data\\\\horse-or-human\\\\train\\\\horses\\\\human01-00.png'"
     ]
    },
    {
     "data": {
      "image/png": "[encoded data removed]",
      "text/plain": [
       "<Figure size 1152x1152 with 1 Axes>"
      ]
     },
     "metadata": {
      "needs_background": "light"
     },
     "output_type": "display_data"
    }
   ],
   "source": [
    "# # Set up matplotlib fig, and size it to fit 4x4 pics\n",
    "# fig = plt.gcf()\n",
    "# fig.set_size_inches(ncols * 4, nrows * 4)\n",
    "\n",
    "# pic_index += 8\n",
    "# next_horse_pix = [os.path.join(Train_Dir_humans, fname) \n",
    "#                 for fname in train_horse_names[pic_index-8:pic_index]]\n",
    "# next_human_pix = [os.path.join(Train_Dir_horses, fname) \n",
    "#                 for fname in Train_Dir_horses[pic_index-8:pic_index]]\n",
    "\n",
    "# for i, img_path in enumerate(next_horse_pix+next_human_pix):\n",
    "#   # Set up subplot; subplot indices start at 1\n",
    "#   sp = plt.subplot(nrows, ncols, i + 1)\n",
    "#   sp.axis('Off') # Don't show axes (or gridlines)\n",
    "\n",
    "#   img = mpimg.imread(img_path)\n",
    "#   plt.imshow(img)\n",
    "\n",
    "# plt.show()"
   ]
  },
  {
   "cell_type": "markdown",
   "metadata": {},
   "source": [
    "## Preprocess the data"
   ]
  },
  {
   "cell_type": "code",
   "execution_count": null,
   "metadata": {},
   "outputs": [],
   "source": [
    "train_datagen=ImageDataGenerator(1./255) #rescale all images to 1/255\n",
    "test_datagen=ImageDataGenerator(1./255)\n",
    "\n",
    "train_generator= train_datagen.flow_from_directory(train_dir,\n",
    "                                                   target_size=(Img_Size,Img_Size),\n",
    "                                                   batch_size=Batch_size,\n",
    "                                                   class_mode='binary')\n",
    "val_generator= test_datagen.flow_from_directory(val_dir,\n",
    "                                                target_size=(Img_Size,Img_Size),\n",
    "                                                batch_size=Batch_size,\n",
    "                                                class_mode='binary')"
   ]
  },
  {
   "cell_type": "markdown",
   "metadata": {},
   "source": [
    "## Build Model"
   ]
  },
  {
   "cell_type": "code",
   "execution_count": null,
   "metadata": {},
   "outputs": [],
   "source": [
    "model = tf.keras.models.Sequential([\n",
    "    tf.keras.layers.Conv2D(32, (3,3), activation='relu',\n",
    "                           input_shape=(Img_Size, Img_Size, 3)),\n",
    "    tf.keras.layers.MaxPooling2D(2, 2),\n",
    "\n",
    "    tf.keras.layers.Conv2D(64, (3,3), activation='relu'),\n",
    "    tf.keras.layers.MaxPooling2D(2,2),\n",
    "\n",
    "    tf.keras.layers.Conv2D(128, (3,3), activation='relu'),\n",
    "    tf.keras.layers.MaxPooling2D(2,2),\n",
    "\n",
    "    tf.keras.layers.Conv2D(128, (3,3), activation='relu'),\n",
    "    tf.keras.layers.MaxPooling2D(2,2),\n",
    "\n",
    "    tf.keras.layers.Flatten(),\n",
    "    tf.keras.layers.Dense(512, activation='relu'),\n",
    "    tf.keras.layers.Dense(1,activation='sigmoid')\n",
    "])\n",
    "\n",
    "model.summary()"
   ]
  },
  {
   "cell_type": "markdown",
   "metadata": {},
   "source": [
    "## Compile model"
   ]
  },
  {
   "cell_type": "code",
   "execution_count": null,
   "metadata": {},
   "outputs": [],
   "source": [
    "model.compile(optimizer='adam',\n",
    "              loss='binary_crossentropy',\n",
    "              metrics=['accuracy'])"
   ]
  },
  {
   "cell_type": "markdown",
   "metadata": {},
   "source": [
    "# Model and fit the dataset"
   ]
  },
  {
   "cell_type": "code",
   "execution_count": null,
   "metadata": {},
   "outputs": [],
   "source": [
    "history = model.fit(\n",
    "      train_generator,\n",
    "      validation_data = val_generator,  \n",
    "      epochs=15,\n",
    "      steps_per_epoch=8,\n",
    "      validation_steps=8,\n",
    "      verbose=1)"
   ]
  },
  {
   "cell_type": "markdown",
   "metadata": {},
   "source": [
    "# Model predict from a new image"
   ]
  },
  {
   "cell_type": "code",
   "execution_count": null,
   "metadata": {},
   "outputs": [],
   "source": [
    "from tensorflow.keras.optimizers import RMSprop\n",
    "\n",
    "model.compile(loss='binary_crossentropy',\n",
    "              optimizer=RMSprop(learning_rate=0.001),\n",
    "              metrics=['accuracy'])"
   ]
  },
  {
   "cell_type": "code",
   "execution_count": null,
   "metadata": {},
   "outputs": [],
   "source": [
    "from keras.preprocessing import image\n",
    "for i in predict_images:\n",
    " \n",
    "    # predicting images\n",
    "    path = predict_images_dir + i\n",
    "    img = image.load_img(path, target_size=(150, 150))\n",
    "    x = image.img_to_array(img)\n",
    "    x = x / 255\n",
    "    x = np.expand_dims(x, axis=0)\n",
    "    images = np.vstack([x])\n",
    "    classes = model.predict(images, batch_size=10)\n",
    "    print(classes[0])\n",
    "    if classes[0]>0.5:\n",
    "        print(i + \" is a human\")\n",
    "    else:\n",
    "        print(i + \" is a horse\")\n",
    " "
   ]
  },
  {
   "cell_type": "code",
   "execution_count": null,
   "metadata": {},
   "outputs": [],
   "source": [
    "%%javascript\n",
    "\n",
    "try {\n",
    "    Jupyter.notebook.save_checkpoint();\n",
    "    Jupyter.notebook.session.delete();\n",
    "}\n",
    "catch(err) {\n",
    "    // NoOp\n",
    "}"
   ]
  },
  {
   "cell_type": "code",
   "execution_count": null,
   "metadata": {},
   "outputs": [],
   "source": []
  }
 ],
 "metadata": {
  "kernelspec": {
   "display_name": "mach_learn_env",
   "language": "python",
   "name": "mach_learn_env"
  },
  "language_info": {
   "codemirror_mode": {
    "name": "ipython",
    "version": 3
   },
   "file_extension": ".py",
   "mimetype": "text/x-python",
   "name": "python",
   "nbconvert_exporter": "python",
   "pygments_lexer": "ipython3",
   "version": "3.8.6"
  },
  "widgets": {
   "application/vnd.jupyter.widget-state+json": {
    "state": {},
    "version_major": 2,
    "version_minor": 0
   }
  }
 },
 "nbformat": 4,
 "nbformat_minor": 4
}
