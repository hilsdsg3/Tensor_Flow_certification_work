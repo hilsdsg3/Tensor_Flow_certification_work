{
 "cells": [
  {
   "cell_type": "markdown",
   "metadata": {},
   "source": [
    "# setup"
   ]
  },
  {
   "cell_type": "markdown",
   "metadata": {},
   "source": [
    "## import statments"
   ]
  },
  {
   "cell_type": "code",
   "execution_count": 46,
   "metadata": {},
   "outputs": [],
   "source": [
    "from tensorflow.keras.preprocessing.text import Tokenizer\n",
    "from tensorflow.keras.preprocessing.sequence import pad_sequences"
   ]
  },
  {
   "cell_type": "markdown",
   "metadata": {},
   "source": [
    "## variables and initializations"
   ]
  },
  {
   "cell_type": "code",
   "execution_count": 32,
   "metadata": {},
   "outputs": [],
   "source": [
    "availible_corpus_ = 100\n",
    "tokenizer = Tokenizer(num_words = availible_corpus_)"
   ]
  },
  {
   "cell_type": "markdown",
   "metadata": {},
   "source": [
    "# obtain data"
   ]
  },
  {
   "cell_type": "code",
   "execution_count": 33,
   "metadata": {},
   "outputs": [],
   "source": [
    "sentences = [\n",
    "             'Thank you, Tony., And good afternoon, everyone.', \n",
    "             'Q3 was a solid quarter where we navigated a challenging supply environment to deliver year-over-year growth on the top line while beating expectations on gross margin and EPS.',\n",
    "             'We had record third quarter revenue in DCG and Mobileye, while IOTG had an all-time record as it continued its recovery from COVID slowdowns.',\n",
    "             'Our focus on execution continued as we delivered on our initial IDM 2.0 commitments.',\n",
    "             'We broke ground on new fabs, shared our accelerated path to regain process performance leadership, and made our most dramatic architecture announcements in the decade.',\n",
    "             'We also announced major customer wins across every part of our business, including in the data center with AWS and Google, new EVO designs and client, and exciting Mobileye partnerships with ZEEKR and Sixt SE.',\n",
    "             'The demand for semiconductors remains strong, and our factories performed exceptionally well in a highly dynamic environment, where matched sets post huge challenges for our customers, and overall, industry supply remained very constrained.'\n",
    "            ]\n",
    "\n",
    "# sentences = [\n",
    "#     'I love my dog',\n",
    "#     'I love my cat',\n",
    "#     'You love my dog!',\n",
    "#     'Do you think my dog is amazing?'\n",
    "# ]\n"
   ]
  },
  {
   "cell_type": "markdown",
   "metadata": {},
   "source": [
    "## processing : tokenizing words"
   ]
  },
  {
   "cell_type": "code",
   "execution_count": 34,
   "metadata": {},
   "outputs": [
    {
     "name": "stdout",
     "output_type": "stream",
     "text": [
      "\n",
      " count of words   :   word\n",
      "              1   :   and \n",
      "              2   :   our \n",
      "              3   :   we \n",
      "              4   :   on \n",
      "              5   :   the \n",
      "              6   :   in \n",
      "              7   :   a \n",
      "              8   :   quarter \n",
      "              9   :   where \n",
      "             10   :   supply \n",
      "             11   :   environment \n",
      "             12   :   to \n",
      "             13   :   year \n",
      "             14   :   while \n",
      "             15   :   had \n",
      "             16   :   record \n",
      "             17   :   mobileye \n",
      "             18   :   as \n",
      "             19   :   continued \n",
      "             20   :   new \n",
      "             21   :   with \n",
      "             22   :   for \n",
      "             23   :   thank \n",
      "             24   :   you \n",
      "             25   :   tony \n",
      "             26   :   good \n",
      "             27   :   afternoon \n",
      "             28   :   everyone \n",
      "             29   :   q3 \n",
      "             30   :   was \n",
      "             31   :   solid \n",
      "             32   :   navigated \n",
      "             33   :   challenging \n",
      "             34   :   deliver \n",
      "             35   :   over \n",
      "             36   :   growth \n",
      "             37   :   top \n",
      "             38   :   line \n",
      "             39   :   beating \n",
      "             40   :   expectations \n",
      "             41   :   gross \n",
      "             42   :   margin \n",
      "             43   :   eps \n",
      "             44   :   third \n",
      "             45   :   revenue \n",
      "             46   :   dcg \n",
      "             47   :   iotg \n",
      "             48   :   an \n",
      "             49   :   all \n",
      "             50   :   time \n",
      "             51   :   it \n",
      "             52   :   its \n",
      "             53   :   recovery \n",
      "             54   :   from \n",
      "             55   :   covid \n",
      "             56   :   slowdowns \n",
      "             57   :   focus \n",
      "             58   :   execution \n",
      "             59   :   delivered \n",
      "             60   :   initial \n",
      "             61   :   idm \n",
      "             62   :   2 \n",
      "             63   :   0 \n",
      "             64   :   commitments \n",
      "             65   :   broke \n",
      "             66   :   ground \n",
      "             67   :   fabs \n",
      "             68   :   shared \n",
      "             69   :   accelerated \n",
      "             70   :   path \n",
      "             71   :   regain \n",
      "             72   :   process \n",
      "             73   :   performance \n",
      "             74   :   leadership \n",
      "             75   :   made \n",
      "             76   :   most \n",
      "             77   :   dramatic \n",
      "             78   :   architecture \n",
      "             79   :   announcements \n",
      "             80   :   decade \n",
      "             81   :   also \n",
      "             82   :   announced \n",
      "             83   :   major \n",
      "             84   :   customer \n",
      "             85   :   wins \n",
      "             86   :   across \n",
      "             87   :   every \n",
      "             88   :   part \n",
      "             89   :   of \n",
      "             90   :   business \n",
      "             91   :   including \n",
      "             92   :   data \n",
      "             93   :   center \n",
      "             94   :   aws \n",
      "             95   :   google \n",
      "             96   :   evo \n",
      "             97   :   designs \n",
      "             98   :   client \n",
      "             99   :   exciting \n",
      "            100   :   partnerships \n",
      "            101   :   zeekr \n",
      "            102   :   sixt \n",
      "            103   :   se \n",
      "            104   :   demand \n",
      "            105   :   semiconductors \n",
      "            106   :   remains \n",
      "            107   :   strong \n",
      "            108   :   factories \n",
      "            109   :   performed \n",
      "            110   :   exceptionally \n",
      "            111   :   well \n",
      "            112   :   highly \n",
      "            113   :   dynamic \n",
      "            114   :   matched \n",
      "            115   :   sets \n",
      "            116   :   post \n",
      "            117   :   huge \n",
      "            118   :   challenges \n",
      "            119   :   customers \n",
      "            120   :   overall \n",
      "            121   :   industry \n",
      "            122   :   remained \n",
      "            123   :   very \n",
      "            124   :   constrained \n"
     ]
    }
   ],
   "source": [
    "tokenizer.fit_on_texts(sentences)\n",
    "word_index = tokenizer.word_index\n",
    "space = 3*' '\n",
    "print(f'\\n count of words{space}:{space}word')\n",
    "for key, value in word_index.items():\n",
    "    if len(str(value)) == 1:\n",
    "        value = 13*' ' + str(value)\n",
    "    elif len(str(value)) == 2:\n",
    "        value = 12*' ' + str(value)\n",
    "    elif len(str(value)) == 3:\n",
    "        value = 11*' ' + str(value) \n",
    "    print(f' {value}{space}:{space}{key} ')"
   ]
  },
  {
   "cell_type": "markdown",
   "metadata": {},
   "source": [
    "## processing the word count in the sentences"
   ]
  },
  {
   "cell_type": "code",
   "execution_count": 44,
   "metadata": {},
   "outputs": [
    {
     "name": "stdout",
     "output_type": "stream",
     "text": [
      "\n",
      "Thank you, Tony., And good afternoon, everyone.\n",
      "[24, 25, 26, 2, 27, 28, 29]\n",
      "\n",
      "Q3 was a solid quarter where we navigated a challenging supply environment to deliver year-over-year growth on the top line while beating expectations on gross margin and EPS.\n",
      "[30, 31, 8, 32, 9, 10, 4, 33, 8, 34, 11, 12, 13, 35, 14, 36, 14, 37, 5, 6, 38, 39, 15, 40, 41, 5, 42, 43, 2, 44]\n",
      "\n",
      "We had record third quarter revenue in DCG and Mobileye, while IOTG had an all-time record as it continued its recovery from COVID slowdowns.\n",
      "[4, 16, 17, 45, 9, 46, 7, 47, 2, 18, 15, 48, 16, 49, 50, 51, 17, 19, 52, 20, 53, 54, 55, 56, 57]\n",
      "\n",
      "Our focus on execution continued as we delivered on our initial IDM 2.0 commitments.\n",
      "[3, 58, 5, 59, 20, 19, 4, 60, 5, 3, 61, 62, 63, 64, 65]\n",
      "\n",
      "We broke ground on new fabs, shared our accelerated path to regain process performance leadership, and made our most dramatic architecture announcements in the decade.\n",
      "[4, 66, 67, 5, 21, 68, 69, 3, 70, 71, 13, 72, 73, 74, 75, 2, 76, 3, 77, 78, 79, 80, 7, 6, 81]\n",
      "\n",
      "We also announced major customer wins across every part of our business, including in the data center with AWS and Google, new EVO designs and client, and exciting Mobileye partnerships with ZEEKR and Sixt SE.\n",
      "[4, 82, 83, 84, 85, 86, 87, 88, 89, 90, 3, 91, 92, 7, 6, 93, 94, 22, 95, 2, 96, 21, 97, 98, 2, 99, 2, 1, 18, 1, 22, 1, 2, 1, 1]\n",
      "\n",
      "The demand for semiconductors remains strong, and our factories performed exceptionally well in a highly dynamic environment, where matched sets post huge challenges for our customers, and overall, industry supply remained very constrained.\n",
      "[6, 1, 23, 1, 1, 1, 2, 3, 1, 1, 1, 1, 7, 8, 1, 1, 12, 10, 1, 1, 1, 1, 1, 23, 3, 1, 2, 1, 1, 11, 1, 1, 1]\n"
     ]
    }
   ],
   "source": [
    "sequences = tokenizer.texts_to_sequences(sentences)\n",
    "\n",
    "for i,j in zip(sequences,sentences):\n",
    "    print(f'\\n{j}\\n{i}')"
   ]
  },
  {
   "cell_type": "markdown",
   "metadata": {},
   "source": [
    "## processing the word count in the sentences WITH out of corpus vocabulary (oov)"
   ]
  },
  {
   "cell_type": "code",
   "execution_count": 42,
   "metadata": {},
   "outputs": [
    {
     "name": "stdout",
     "output_type": "stream",
     "text": [
      "\n",
      "Thank you, Tony., And good afternoon, everyone.\n",
      "[24, 25, 26, 2, 27, 28, 29]\n",
      "\n",
      "Q3 was a solid quarter where we navigated a challenging supply environment to deliver year-over-year growth on the top line while beating expectations on gross margin and EPS.\n",
      "[30, 31, 8, 32, 9, 10, 4, 33, 8, 34, 11, 12, 13, 35, 14, 36, 14, 37, 5, 6, 38, 39, 15, 40, 41, 5, 42, 43, 2, 44]\n",
      "\n",
      "We had record third quarter revenue in DCG and Mobileye, while IOTG had an all-time record as it continued its recovery from COVID slowdowns.\n",
      "[4, 16, 17, 45, 9, 46, 7, 47, 2, 18, 15, 48, 16, 49, 50, 51, 17, 19, 52, 20, 53, 54, 55, 56, 57]\n",
      "\n",
      "Our focus on execution continued as we delivered on our initial IDM 2.0 commitments.\n",
      "[3, 58, 5, 59, 20, 19, 4, 60, 5, 3, 61, 62, 63, 64, 65]\n",
      "\n",
      "We broke ground on new fabs, shared our accelerated path to regain process performance leadership, and made our most dramatic architecture announcements in the decade.\n",
      "[4, 66, 67, 5, 21, 68, 69, 3, 70, 71, 13, 72, 73, 74, 75, 2, 76, 3, 77, 78, 79, 80, 7, 6, 81]\n",
      "\n",
      "We also announced major customer wins across every part of our business, including in the data center with AWS and Google, new EVO designs and client, and exciting Mobileye partnerships with ZEEKR and Sixt SE.\n",
      "[4, 82, 83, 84, 85, 86, 87, 88, 89, 90, 3, 91, 92, 7, 6, 93, 94, 22, 95, 2, 96, 21, 97, 98, 2, 99, 2, 'oov', 18, 'oov', 22, 'oov', 2, 'oov', 'oov']\n",
      "\n",
      "The demand for semiconductors remains strong, and our factories performed exceptionally well in a highly dynamic environment, where matched sets post huge challenges for our customers, and overall, industry supply remained very constrained.\n",
      "[6, 'oov', 23, 'oov', 'oov', 'oov', 2, 3, 'oov', 'oov', 'oov', 'oov', 7, 8, 'oov', 'oov', 12, 10, 'oov', 'oov', 'oov', 'oov', 'oov', 23, 3, 'oov', 2, 'oov', 'oov', 11, 'oov', 'oov', 'oov']\n"
     ]
    }
   ],
   "source": [
    "tokenizer = Tokenizer(num_words = availible_corpus_, oov_token=\"<OOV>\")\n",
    "tokenizer.fit_on_texts(sentences)\n",
    "test_seq = tokenizer.texts_to_sequences(sentences)\n",
    "\n",
    "for i,j in zip(test_seq,sentences):\n",
    "    #replace 1's with 0's\n",
    "    i = ['oov' if x==1 else x for x in i]\n",
    "    print(f'\\n{j}\\n{i}')"
   ]
  },
  {
   "cell_type": "code",
   "execution_count": 57,
   "metadata": {},
   "outputs": [
    {
     "name": "stdout",
     "output_type": "stream",
     "text": [
      "input sentences\n",
      "tokened sentences\n",
      "\n",
      "Thank you, Tony., And good afternoon, everyone.\n",
      "[24, 25, 26, 2, 27, 28, 29]\n",
      "\n",
      "Q3 was a solid quarter where we navigated a challenging supply environment to deliver year-over-year growth on the top line while beating expectations on gross margin and EPS.\n",
      "[30, 31, 8, 32, 9, 10, 4, 33, 8, 34, 11, 12, 13, 35, 14, 36, 14, 37, 5, 6, 38, 39, 15, 40, 41, 5, 42, 43, 2, 44]\n",
      "\n",
      "We had record third quarter revenue in DCG and Mobileye, while IOTG had an all-time record as it continued its recovery from COVID slowdowns.\n",
      "[4, 16, 17, 45, 9, 46, 7, 47, 2, 18, 15, 48, 16, 49, 50, 51, 17, 19, 52, 20, 53, 54, 55, 56, 57]\n",
      "\n",
      "Our focus on execution continued as we delivered on our initial IDM 2.0 commitments.\n",
      "[3, 58, 5, 59, 20, 19, 4, 60, 5, 3, 61, 62, 63, 64, 65]\n",
      "\n",
      "We broke ground on new fabs, shared our accelerated path to regain process performance leadership, and made our most dramatic architecture announcements in the decade.\n",
      "[4, 66, 67, 5, 21, 68, 69, 3, 70, 71, 13, 72, 73, 74, 75, 2, 76, 3, 77, 78, 79, 80, 7, 6, 81]\n",
      "\n",
      "We also announced major customer wins across every part of our business, including in the data center with AWS and Google, new EVO designs and client, and exciting Mobileye partnerships with ZEEKR and Sixt SE.\n",
      "[4, 82, 83, 84, 85, 86, 87, 88, 89, 90, 3, 91, 92, 7, 6, 93, 94, 22, 95, 2, 96, 21, 97, 98, 2, 99, 2, 'oov', 18, 'oov', 22, 'oov', 2, 'oov', 'oov']\n",
      "\n",
      "The demand for semiconductors remains strong, and our factories performed exceptionally well in a highly dynamic environment, where matched sets post huge challenges for our customers, and overall, industry supply remained very constrained.\n",
      "[6, 'oov', 23, 'oov', 'oov', 'oov', 2, 3, 'oov', 'oov', 'oov', 'oov', 7, 8, 'oov', 'oov', 12, 10, 'oov', 'oov', 'oov', 'oov', 'oov', 23, 3, 'oov', 2, 'oov', 'oov', 11, 'oov', 'oov', 'oov']\n",
      "\n",
      "\n",
      "padded sentences\n",
      "\n",
      "[ 0  0  0  0  0  0  0  0  0  0  0  0  0  0  0  0  0  0  0  0  0  0  0  0\n",
      "  0  0  0  0 24 25 26  2 27 28 29]\n",
      "\n",
      "\n",
      "[ 0  0  0  0  0 30 31  8 32  9 10  4 33  8 34 11 12 13 35 14 36 14 37  5\n",
      "  6 38 39 15 40 41  5 42 43  2 44]\n",
      "\n",
      "\n",
      "[ 0  0  0  0  0  0  0  0  0  0  4 16 17 45  9 46  7 47  2 18 15 48 16 49\n",
      " 50 51 17 19 52 20 53 54 55 56 57]\n",
      "\n",
      "\n",
      "[ 0  0  0  0  0  0  0  0  0  0  0  0  0  0  0  0  0  0  0  0  3 58  5 59\n",
      " 20 19  4 60  5  3 61 62 63 64 65]\n",
      "\n",
      "\n",
      "[ 0  0  0  0  0  0  0  0  0  0  4 66 67  5 21 68 69  3 70 71 13 72 73 74\n",
      " 75  2 76  3 77 78 79 80  7  6 81]\n",
      "\n",
      "\n",
      "[ 4 82 83 84 85 86 87 88 89 90  3 91 92  7  6 93 94 22 95  2 96 21 97 98\n",
      "  2 99  2  1 18  1 22  1  2  1  1]\n",
      "\n",
      "\n",
      "[ 0  0  6  1 23  1  1  1  2  3  1  1  1  1  7  8  1  1 12 10  1  1  1  1\n",
      "  1 23  3  1  2  1  1 11  1  1  1]\n",
      "\n"
     ]
    }
   ],
   "source": [
    "tokenizer = Tokenizer(num_words = availible_corpus_, oov_token=\"<OOV>\")\n",
    "tokenizer.fit_on_texts(sentences)\n",
    "test_seq = tokenizer.texts_to_sequences(sentences)\n",
    "\n",
    "padded = pad_sequences(sequences)\n",
    "\n",
    "print(f'input sentences\\ntokened sentences')\n",
    "for i,j in zip(test_seq,sentences):\n",
    "    #replace 1's with 0's\n",
    "    i = ['oov' if x==1 else x for x in i]\n",
    "    print(f'\\n{j}\\n{i}')\n",
    "    \n",
    "print(f'\\n\\npadded sentences')\n",
    "for k in padded:\n",
    "    print(f'\\n{k}\\n')"
   ]
  }
 ],
 "metadata": {
  "kernelspec": {
   "display_name": "mach_learn_env",
   "language": "python",
   "name": "mach_learn_env"
  },
  "language_info": {
   "codemirror_mode": {
    "name": "ipython",
    "version": 3
   },
   "file_extension": ".py",
   "mimetype": "text/x-python",
   "name": "python",
   "nbconvert_exporter": "python",
   "pygments_lexer": "ipython3",
   "version": "3.8.6"
  },
  "widgets": {
   "application/vnd.jupyter.widget-state+json": {
    "state": {},
    "version_major": 2,
    "version_minor": 0
   }
  }
 },
 "nbformat": 4,
 "nbformat_minor": 4
}
